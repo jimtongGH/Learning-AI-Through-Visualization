{
 "cells": [
  {
   "cell_type": "code",
   "metadata": {
    "executionInfo": {
     "elapsed": 1779,
     "status": "ok",
     "timestamp": 1728603140424,
     "user": {
      "displayName": "Jessie Chen",
      "userId": "04661147129880361599"
     },
     "user_tz": 240
    },
    "id": "rcxORZHQ04fW",
    "ExecuteTime": {
     "end_time": "2025-06-24T10:41:08.875235Z",
     "start_time": "2025-06-24T10:41:05.921688Z"
    }
   },
   "source": [
    "import time\n",
    "import numpy as np\n",
    "from numpy.linalg import norm\n",
    "import matplotlib.pyplot as plt\n",
    "from mpl_toolkits.mplot3d import Axes3D\n",
    "from scipy.optimize import minimize\n",
    "\n",
    "import pandas as pd\n",
    "from IPython.display import clear_output\n",
    "\n",
    "import os"
   ],
   "outputs": [],
   "execution_count": 3
  },
  {
   "cell_type": "code",
   "metadata": {
    "executionInfo": {
     "elapsed": 5,
     "status": "ok",
     "timestamp": 1728603140424,
     "user": {
      "displayName": "Jessie Chen",
      "userId": "04661147129880361599"
     },
     "user_tz": 240
    },
    "id": "RX6h0dm604fY",
    "ExecuteTime": {
     "end_time": "2025-06-24T10:41:08.904326Z",
     "start_time": "2025-06-24T10:41:08.899895Z"
    }
   },
   "source": [
    "if not os.path.isdir('./figure/'):\n",
    "    os.makedirs('./figure/')"
   ],
   "outputs": [],
   "execution_count": 4
  },
  {
   "cell_type": "markdown",
   "metadata": {
    "id": "jmUWxwoZ04fY"
   },
   "source": [
    "# Functions under consideration\n",
    "$f_1(x,y) = 2(x-20)^2 + (y+30)^2 + 10$\n",
    "\n",
    "\n",
    "$f_2(x,y) = (x+10)^2 (y-20)^2 + (x-10)^2 (y+30)^2 + 10$"
   ]
  },
  {
   "cell_type": "code",
   "metadata": {
    "executionInfo": {
     "elapsed": 5,
     "status": "ok",
     "timestamp": 1728603140425,
     "user": {
      "displayName": "Jessie Chen",
      "userId": "04661147129880361599"
     },
     "user_tz": 240
    },
    "id": "dVY3KYem04fY",
    "ExecuteTime": {
     "end_time": "2025-06-24T10:41:08.928760Z",
     "start_time": "2025-06-24T10:41:08.924903Z"
    }
   },
   "source": [
    "def objFunc1(x, y):\n",
    "\n",
    "    return 2*(x-20)**2 + 1*(y+30)**2 + 10"
   ],
   "outputs": [],
   "execution_count": 5
  },
  {
   "cell_type": "code",
   "metadata": {
    "executionInfo": {
     "elapsed": 5,
     "status": "ok",
     "timestamp": 1728603140425,
     "user": {
      "displayName": "Jessie Chen",
      "userId": "04661147129880361599"
     },
     "user_tz": 240
    },
    "id": "SN_PJ1FB04fZ",
    "ExecuteTime": {
     "end_time": "2025-06-24T10:41:08.949069Z",
     "start_time": "2025-06-24T10:41:08.944649Z"
    }
   },
   "source": [
    "def gradF1(param):\n",
    "\n",
    "    '''\n",
    "    this module calculates gradient of the first function\n",
    "    '''\n",
    "    x = param[0]\n",
    "    y = param[1]\n",
    "    grad = np.array([4.0*(x-20),2.0*(y+30)])\n",
    "    return grad"
   ],
   "outputs": [],
   "execution_count": 6
  },
  {
   "cell_type": "code",
   "metadata": {
    "executionInfo": {
     "elapsed": 179,
     "status": "ok",
     "timestamp": 1728603306124,
     "user": {
      "displayName": "Jessie Chen",
      "userId": "04661147129880361599"
     },
     "user_tz": 240
    },
    "id": "y3Rx8-0204fZ",
    "ExecuteTime": {
     "end_time": "2025-06-24T10:41:08.966334Z",
     "start_time": "2025-06-24T10:41:08.962737Z"
    }
   },
   "source": [
    "def objFunc2(x, y):\n",
    "\n",
    "    return (x+10)**2 *(y-20)**2 + (x-10)**2 * (y+30)**2 + 10"
   ],
   "outputs": [],
   "execution_count": 7
  },
  {
   "cell_type": "code",
   "metadata": {
    "executionInfo": {
     "elapsed": 5,
     "status": "ok",
     "timestamp": 1728603140425,
     "user": {
      "displayName": "Jessie Chen",
      "userId": "04661147129880361599"
     },
     "user_tz": 240
    },
    "id": "rcyGiER404fZ",
    "ExecuteTime": {
     "end_time": "2025-06-24T10:41:08.984880Z",
     "start_time": "2025-06-24T10:41:08.980059Z"
    }
   },
   "source": [
    "def gradF2(param):\n",
    "\n",
    "    '''\n",
    "    this module calculates gradient of the second function\n",
    "    '''\n",
    "\n",
    "    x = param[0]\n",
    "    y = param[1]\n",
    "    grad = np.array([2.0*(x+10) *(y-20)**2 + 2*(x-10) *(y+30)**2, 2.0*(y-20) * (x+10)**2 + 2*(y+30) * (x-10)**2 ])\n",
    "    return grad"
   ],
   "outputs": [],
   "execution_count": 8
  },
  {
   "cell_type": "markdown",
   "metadata": {
    "id": "T-LytZ0P04fZ"
   },
   "source": [
    "# User selection"
   ]
  },
  {
   "cell_type": "code",
   "metadata": {
    "executionInfo": {
     "elapsed": 4,
     "status": "ok",
     "timestamp": 1728603140425,
     "user": {
      "displayName": "Jessie Chen",
      "userId": "04661147129880361599"
     },
     "user_tz": 240
    },
    "id": "3fVym_Ye04fa",
    "ExecuteTime": {
     "end_time": "2025-06-24T10:41:09.004725Z",
     "start_time": "2025-06-24T10:41:08.999485Z"
    }
   },
   "source": [
    "# which function f1 of f2\n",
    "whichFunc = 2\n",
    "\n",
    "# different starting points\n",
    "whichStartingPoint = 1\n",
    "\n",
    "if whichStartingPoint == 1:\n",
    "    x0 = -100\n",
    "    y0 = 200\n",
    "elif whichStartingPoint == 2:\n",
    "    x0 = 100\n",
    "    y0 = 100\n",
    "elif whichStartingPoint == 3:\n",
    "    x0 = -200\n",
    "    y0 = 200\n",
    "elif whichStartingPoint == 4:\n",
    "    x0 = -20\n",
    "    y0 = 20\n",
    "else:\n",
    "    x0 = -100.0\n",
    "    y0 = -200.0\n",
    "\n",
    "param0 = np.array([x0, y0])\n",
    "\n",
    "# learning rate\n",
    "g1 = 0.01\n",
    "\n",
    "# threshold for clipping gradient\n",
    "threshold = 200\n",
    "\n",
    "# number of iterations\n",
    "nIters = 50\n"
   ],
   "outputs": [],
   "execution_count": 9
  },
  {
   "cell_type": "code",
   "metadata": {
    "executionInfo": {
     "elapsed": 4,
     "status": "ok",
     "timestamp": 1728603140425,
     "user": {
      "displayName": "Jessie Chen",
      "userId": "04661147129880361599"
     },
     "user_tz": 240
    },
    "id": "qp5JDAAx04fa",
    "ExecuteTime": {
     "end_time": "2025-06-24T10:41:09.025291Z",
     "start_time": "2025-06-24T10:41:09.019655Z"
    }
   },
   "source": [
    "x = np.linspace(-200,200, 100)\n",
    "y = np.linspace(-200,200, 100)\n",
    "X, Y = np.meshgrid(x,y)\n",
    "\n",
    "if whichFunc == 1:\n",
    "    Z =  objFunc1(X, Y)\n",
    "elif whichFunc == 2:\n",
    "    Z =  objFunc2(X, Y)"
   ],
   "outputs": [],
   "execution_count": 10
  },
  {
   "cell_type": "markdown",
   "metadata": {
    "id": "XrMOTS5-04fa"
   },
   "source": [
    "# Surface Plot"
   ]
  },
  {
   "cell_type": "code",
   "metadata": {
    "colab": {
     "base_uri": "https://localhost:8080/",
     "height": 518
    },
    "executionInfo": {
     "elapsed": 2778,
     "status": "ok",
     "timestamp": 1728603143199,
     "user": {
      "displayName": "Jessie Chen",
      "userId": "04661147129880361599"
     },
     "user_tz": 240
    },
    "id": "QxUD5DXB04fa",
    "outputId": "556f582d-e1ca-424f-9181-3cc3429931dd",
    "ExecuteTime": {
     "end_time": "2025-06-24T10:41:09.844381Z",
     "start_time": "2025-06-24T10:41:09.046361Z"
    }
   },
   "source": [
    "fig = plt.figure(figsize=(4, 4))\n",
    "ax = fig.add_subplot(111, projection='3d')  # Use add_subplot for 3D projection\n",
    "ax.plot_surface(X, Y, Z, cmap=plt.cm.coolwarm)\n",
    "ax.set_title('Surface Plot')"
   ],
   "outputs": [
    {
     "data": {
      "text/plain": [
       "Text(0.5, 0.92, 'Surface Plot')"
      ]
     },
     "execution_count": 11,
     "metadata": {},
     "output_type": "execute_result"
    }
   ],
   "execution_count": 11
  },
  {
   "cell_type": "markdown",
   "metadata": {
    "id": "4zDQCFyS04fb"
   },
   "source": [
    "# Optimization routine: Gradient Descent Method"
   ]
  },
  {
   "cell_type": "code",
   "metadata": {
    "colab": {
     "base_uri": "https://localhost:8080/",
     "height": 528
    },
    "executionInfo": {
     "elapsed": 83984,
     "status": "ok",
     "timestamp": 1728603227181,
     "user": {
      "displayName": "Jessie Chen",
      "userId": "04661147129880361599"
     },
     "user_tz": 240
    },
    "id": "MK7TGTjq04fb",
    "outputId": "ce2e4acb-3756-4a7d-d4d3-d155e86c9c24",
    "scrolled": true,
    "ExecuteTime": {
     "end_time": "2025-06-24T10:41:29.304741Z",
     "start_time": "2025-06-24T10:41:09.904613Z"
    }
   },
   "source": [
    "for i in np.arange(nIters-1):\n",
    "    if whichFunc == 1:\n",
    "        delF = gradF1(x_i)\n",
    "    elif whichFunc == 2:\n",
    "        delF = gradF2(x_i)\n",
    "\n",
    "    normGrad = norm(delF,1)\n",
    "    if normGrad > threshold:\n",
    "        delF = delF / normGrad * threshold\n",
    "    x_i = x_i - g1 * delF\n",
    "    xs[i+1] = x_i[0]\n",
    "    ys[i+1] = x_i[1]\n",
    "\n",
    "    clear_output(wait=True)\n",
    "\n",
    "    fig = plt.figure(figsize=(14,6))\n",
    "    ax1 = fig.add_subplot(121, projection='3d')\n",
    "    ax1.plot_surface(X, Y, Z, cmap=plt.cm.coolwarm)\n",
    "\n",
    "\n",
    "    ax2 = fig.add_subplot(122)\n",
    "    ax2.contour(X, Y, Z, 50)\n",
    "    if whichFunc == 1:\n",
    "        ax2.scatter(20, -30, color='r')\n",
    "    else:\n",
    "        ax2.scatter(-10, -30, color='r')\n",
    "        ax2.scatter(10, 20, color='r')\n",
    "\n",
    "    ax2.plot(xs[:i], ys[:i], color='r')\n",
    "    ax2.scatter(xs[:i], ys[:i], color='k')\n",
    "    plt.pause(0.1) # number of seconds before updating the graph\n",
    "    plt.show()"
   ],
   "outputs": [
    {
     "name": "stderr",
     "output_type": "stream",
     "text": [
      "invalid command name \"4508701440process_stream_events\"\n",
      "    while executing\n",
      "\"4508701440process_stream_events\"\n",
      "    (\"after\" script)\n",
      "\n",
      "KeyboardInterrupt\n",
      "\n"
     ]
    }
   ],
   "execution_count": 12
  }
 ],
 "metadata": {
  "colab": {
   "provenance": []
  },
  "kernelspec": {
   "display_name": "Columbia_Course_Learning_AI_Through_Visualization",
   "language": "python",
   "name": "python3"
  },
  "language_info": {
   "codemirror_mode": {
    "name": "ipython",
    "version": 3
   },
   "file_extension": ".py",
   "mimetype": "text/x-python",
   "name": "python",
   "nbconvert_exporter": "python",
   "pygments_lexer": "ipython3",
   "version": "3.12.11"
  }
 },
 "nbformat": 4,
 "nbformat_minor": 0
}
